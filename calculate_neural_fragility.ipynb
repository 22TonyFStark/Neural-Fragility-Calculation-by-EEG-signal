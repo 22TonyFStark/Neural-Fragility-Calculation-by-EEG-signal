{
 "cells": [
  {
   "cell_type": "markdown",
   "id": "64c21820",
   "metadata": {},
   "source": [
    "## 神经脆弱性矩阵计算\n",
    "### 1.分窗"
   ]
  },
  {
   "cell_type": "code",
   "execution_count": null,
   "id": "e33df718",
   "metadata": {},
   "outputs": [],
   "source": [
    "def get_window_signals(full_signal, window_size, repeat_rate = 0.5):\n",
    "    \"\"\"\n",
    "    滑动分窗\n",
    "    输入:\n",
    "    full_signal，形状 n_channel, n_time\n",
    "    window_size, 窗大小\n",
    "    repeat_rate, 滑窗的重复率\n",
    "    输出：\n",
    "    window_signals, 列表，每一个元素是一个信号窗（形状为n_channel, window_size）\n",
    "    \n",
    "    \"\"\"\n",
    "    window_signals = []\n",
    "    length = full_signal.shape[1]\n",
    "    n_window = length // window_size\n",
    "    step = int(window_size * repeat_rate)\n",
    "    _c = 0\n",
    "    while _c <= length - window_size:\n",
    "        window_signals.append(full_signal[:,_c: _c + window_size])\n",
    "        _c += step    \n",
    "    return window_signals"
   ]
  },
  {
   "cell_type": "markdown",
   "id": "267aa7be",
   "metadata": {},
   "source": [
    "### 2.构造线性方程组"
   ]
  },
  {
   "cell_type": "code",
   "execution_count": null,
   "id": "602c0fab",
   "metadata": {},
   "outputs": [],
   "source": [
    "def get_linear_equation(signal):\n",
    "    \"\"\"\n",
    "    论文中求解线性系统x(t+1)=Ax(t)时，将这个问题转化为了求解线性方程组的最小二乘解\n",
    "    转化后的线性方程组为 H*X=b\n",
    "    此函数即根据输入的信号，求得H，X和b\n",
    "    输入：\n",
    "    signal 形状为 (n_window, n_channel)\n",
    "    输出：\n",
    "    H 形状为 (n_window-1)*n_channel, n_channel*n_channel\n",
    "    X 形状为 n_channel*n_channel\n",
    "    b 形状为 (n_window-1)*n_channel)\n",
    "    \"\"\"\n",
    "    \n",
    "    b = []\n",
    "    H = []\n",
    "    X = []\n",
    "    n_window, n_channel = signal.shape\n",
    "    \n",
    "    # get b\n",
    "    for n_w in range(1, n_window):\n",
    "        for n_c in range(n_channel):\n",
    "            b.append(signal[n_w][n_c])\n",
    "    \n",
    "    # get X\n",
    "    X = np.random.random([n_channel*n_channel])\n",
    "    \n",
    "    # get H\n",
    "    for n_w in range(n_window-1):\n",
    "        this_block = []\n",
    "        for n_t in range(n_channel):\n",
    "            this_row = np.zeros((n_channel*n_channel))\n",
    "            for i in range(n_t*n_channel, (n_t+1)*n_channel):\n",
    "                _this_channel = i % n_channel\n",
    "                this_row[i] = signal[n_w][_this_channel]\n",
    "            this_block.append(this_row)\n",
    "        this_block = np.array(this_block)\n",
    "        H.append(this_block)\n",
    "    \n",
    "    b = np.array(b)\n",
    "    X = np.array(X)\n",
    "    H = np.concatenate(H, 0)\n",
    "    \n",
    "    return H, X, b"
   ]
  },
  {
   "cell_type": "markdown",
   "id": "d9436088",
   "metadata": {},
   "source": [
    "### 3.求最小二乘解"
   ]
  },
  {
   "cell_type": "code",
   "execution_count": null,
   "id": "131ed063",
   "metadata": {},
   "outputs": [],
   "source": [
    "def solve_equation_by_LeastSquares(H, X, b):\n",
    "    \"\"\"\n",
    "    求线性方程组H * X = b的最小二乘解，\n",
    "    公式:\n",
    "    x = (A^T * A)^(-1) * A^T * b\n",
    "    \"\"\"\n",
    "    x = np.matmul(H.T, H)\n",
    "    x = np.linalg.inv(x)\n",
    "    x = np.matmul(x, H.T)\n",
    "    x = np.matmul(x, b)\n",
    "    return x"
   ]
  },
  {
   "cell_type": "markdown",
   "id": "6cc8c37a",
   "metadata": {},
   "source": [
    "### 4. 求状态转移矩阵A"
   ]
  },
  {
   "cell_type": "code",
   "execution_count": null,
   "id": "c5e6ec2f",
   "metadata": {},
   "outputs": [],
   "source": [
    "def get_A(X):\n",
    "    n = int(np.sqrt(X.shape[0]))\n",
    "    return np.reshape(X, (n,n))"
   ]
  },
  {
   "cell_type": "markdown",
   "id": "f8c83c4b",
   "metadata": {},
   "source": [
    "### 5.求扰动矩阵"
   ]
  },
  {
   "cell_type": "code",
   "execution_count": null,
   "id": "294583b7",
   "metadata": {},
   "outputs": [],
   "source": [
    "def get_B(A, k, sigma, omega):\n",
    "    def get_elementary(k, n_channel=2):\n",
    "        \"\"\"\n",
    "        获取n_channel维空间的第k个单位向量\n",
    "        输出：\n",
    "        eletmentary, 形状为 n_channel\n",
    "        \"\"\"\n",
    "        ret = np.zeros((n_channel, 1))\n",
    "        ret[k] = 1\n",
    "        return ret\n",
    "    e = get_elementary(k)\n",
    "    I = np.identity(A.shape[0])\n",
    "    \n",
    "    A_modified = A - (sigma + omega * 1j) * I\n",
    "    A_modified = np.linalg.inv(A_modified)\n",
    "    A_modified = A_modified.T\n",
    "    B_complecated = np.matmul(e.T, A_modified)\n",
    "    \n",
    "    B_real = B_complecated.real\n",
    "    B_imag = B_complecated.imag\n",
    "    \n",
    "    B = np.concatenate([B_real, B_imag], 0)\n",
    "    \n",
    "    b = np.array([0,-1]).T\n",
    "    return B, b, e\n",
    "\n",
    "\n",
    "def get_perturbation(B, b, e):\n",
    "    \"\"\"\n",
    "    get perturbation following Theorem 1 in paper.\n",
    "    输入 \n",
    "    B 形状 (n_channel, n_channel)\n",
    "    b 形状 (1, n_channel)\n",
    "    e 形状 (n_channel, n_channel)\n",
    "    \n",
    "    \"\"\"\n",
    "    ret = np.matmul(B, B.T)\n",
    "    ret = np.linalg.inv(ret)\n",
    "    ret = np.matmul(B.T, ret)\n",
    "    ret = np.matmul(ret, b)\n",
    "    ret = np.matmul(ret, e.T)\n",
    "    return ret"
   ]
  },
  {
   "cell_type": "markdown",
   "id": "67e1c972",
   "metadata": {},
   "source": [
    "### 6.求神经脆弱性矩阵"
   ]
  },
  {
   "cell_type": "code",
   "execution_count": null,
   "id": "039a64f6",
   "metadata": {},
   "outputs": [],
   "source": [
    "def get_neural_fragility(full_signal, sigma, omega):\n",
    "    \"\"\"\n",
    "    计算神经脆弱性\n",
    "    1.分窗，获取若干个window_signal\n",
    "    2.对每一个window_signal，计算扰动向量\n",
    "    3.获取扰动矩阵\n",
    "    输入：\n",
    "    full_signal， 形状 n_channel, n_time\n",
    "    输出：\n",
    "    脆弱性矩阵 形状 n_channel, n_window_signals\n",
    "    \"\"\"\n",
    "    # 分窗\n",
    "    window_signals = get_window_signals(full_signal)\n",
    "    \n",
    "    # 对每一个信号窗，计算脆弱性向量\n",
    "    neural_fragility_matrix = []\n",
    "    for window_signal in window_signals:\n",
    "        # 构造线性方程组\n",
    "        H,X,b = get_linear_equation(window_signal)\n",
    "        \n",
    "        # 求线性方程组最小二乘解\n",
    "        X = solve_equation_by_LeastSquares(H, X, b)\n",
    "        \n",
    "        # 获取A\n",
    "        A = get_A(X)\n",
    "        \n",
    "        # 计算B\n",
    "        neural_fragility_vector = []\n",
    "        for k in range(n_channel):\n",
    "            B, b, e = get_B(A, k, sigma, omega)\n",
    "            # 计算神经脆弱性向量\n",
    "            perturbation_matrix = get_perturbation(B, b, e)\n",
    "            perturbation_matrix_norm = np.sqrt(np.sum(perturbation_matrix*perturbation_matrix))\n",
    "            neural_fragility_vector.append(perturbation_matrix_norm)\n",
    "            \n",
    "        neural_fragility_matrix.append(neural_fragility_vector)\n",
    "    \n",
    "    # 转换为论文中的矩阵格式：每一列是一个窗信号的脆弱性向量\n",
    "    neural_fragility_matrix = np.array(neural_fragility_matrix)\n",
    "    neural_fragility_matrix = neural_fragility_matrix.T\n",
    "    return neural_fragility_matrix"
   ]
  }
 ],
 "metadata": {
  "kernelspec": {
   "display_name": "Python 3",
   "language": "python",
   "name": "python3"
  },
  "language_info": {
   "codemirror_mode": {
    "name": "ipython",
    "version": 3
   },
   "file_extension": ".py",
   "mimetype": "text/x-python",
   "name": "python",
   "nbconvert_exporter": "python",
   "pygments_lexer": "ipython3",
   "version": "3.8.8"
  }
 },
 "nbformat": 4,
 "nbformat_minor": 5
}
